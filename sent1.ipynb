{
  "nbformat": 4,
  "nbformat_minor": 0,
  "metadata": {
    "colab": {
      "name": "sent1.ipynb",
      "version": "0.3.2",
      "provenance": [],
      "collapsed_sections": []
    },
    "kernelspec": {
      "name": "python3",
      "display_name": "Python 3"
    }
  },
  "cells": [
    {
      "cell_type": "code",
      "metadata": {
        "id": "OymCW4NupZHJ",
        "colab_type": "code",
        "outputId": "7be1190f-c0cc-4d2b-86dd-20115ad40842",
        "colab": {
          "base_uri": "https://localhost:8080/",
          "height": 377
        }
      },
      "source": [
        "!pip install pandas\n",
        "!pip install tweepy\n",
        "!pip install vaderSentiment"
      ],
      "execution_count": 0,
      "outputs": [
        {
          "output_type": "stream",
          "text": [
            "Requirement already satisfied: pandas in /usr/local/lib/python3.6/dist-packages (0.22.0)\n",
            "Requirement already satisfied: numpy>=1.9.0 in /usr/local/lib/python3.6/dist-packages (from pandas) (1.14.6)\n",
            "Requirement already satisfied: pytz>=2011k in /usr/local/lib/python3.6/dist-packages (from pandas) (2018.9)\n",
            "Requirement already satisfied: python-dateutil>=2 in /usr/local/lib/python3.6/dist-packages (from pandas) (2.5.3)\n",
            "Requirement already satisfied: six>=1.5 in /usr/local/lib/python3.6/dist-packages (from python-dateutil>=2->pandas) (1.11.0)\n",
            "Requirement already satisfied: tweepy in /usr/local/lib/python3.6/dist-packages (3.6.0)\n",
            "Requirement already satisfied: six>=1.10.0 in /usr/local/lib/python3.6/dist-packages (from tweepy) (1.11.0)\n",
            "Requirement already satisfied: PySocks>=1.5.7 in /usr/local/lib/python3.6/dist-packages (from tweepy) (1.6.8)\n",
            "Requirement already satisfied: requests>=2.11.1 in /usr/local/lib/python3.6/dist-packages (from tweepy) (2.18.4)\n",
            "Requirement already satisfied: requests-oauthlib>=0.7.0 in /usr/local/lib/python3.6/dist-packages (from tweepy) (1.2.0)\n",
            "Requirement already satisfied: urllib3<1.23,>=1.21.1 in /usr/local/lib/python3.6/dist-packages (from requests>=2.11.1->tweepy) (1.22)\n",
            "Requirement already satisfied: idna<2.7,>=2.5 in /usr/local/lib/python3.6/dist-packages (from requests>=2.11.1->tweepy) (2.6)\n",
            "Requirement already satisfied: chardet<3.1.0,>=3.0.2 in /usr/local/lib/python3.6/dist-packages (from requests>=2.11.1->tweepy) (3.0.4)\n",
            "Requirement already satisfied: certifi>=2017.4.17 in /usr/local/lib/python3.6/dist-packages (from requests>=2.11.1->tweepy) (2018.11.29)\n",
            "Requirement already satisfied: oauthlib>=3.0.0 in /usr/local/lib/python3.6/dist-packages (from requests-oauthlib>=0.7.0->tweepy) (3.0.1)\n",
            "Collecting vaderSentiment\n",
            "\u001b[?25l  Downloading https://files.pythonhosted.org/packages/86/9e/c53e1fc61aac5ee490a6ac5e21b1ac04e55a7c2aba647bb8411c9aadf24e/vaderSentiment-3.2.1-py2.py3-none-any.whl (125kB)\n",
            "\u001b[K    100% |████████████████████████████████| 133kB 6.6MB/s \n",
            "\u001b[?25hInstalling collected packages: vaderSentiment\n",
            "Successfully installed vaderSentiment-3.2.1\n"
          ],
          "name": "stdout"
        }
      ]
    },
    {
      "cell_type": "code",
      "metadata": {
        "id": "-qg87qntpjER",
        "colab_type": "code",
        "outputId": "41d64274-e833-4e85-91a4-f57c8c65712a",
        "colab": {
          "base_uri": "https://localhost:8080/",
          "height": 71
        }
      },
      "source": [
        "import tweepy\n",
        "import pandas as pd\n",
        "from nltk.sentiment.vader import SentimentIntensityAnalyzer\n"
      ],
      "execution_count": 0,
      "outputs": [
        {
          "output_type": "stream",
          "text": [
            "/usr/local/lib/python3.6/dist-packages/nltk/twitter/__init__.py:20: UserWarning: The twython library has not been installed. Some functionality from the twitter package will not be available.\n",
            "  warnings.warn(\"The twython library has not been installed. \"\n"
          ],
          "name": "stderr"
        }
      ]
    },
    {
      "cell_type": "code",
      "metadata": {
        "id": "_fIQ9qNLphwv",
        "colab_type": "code",
        "colab": {}
      },
      "source": [
        "#My Twitter API Authentication Variables\n",
        "consumer_key = 'kMakzgiZmtZKXN4rZE0RjG64k'\n",
        "consumer_secret = 'V4gI9zTBP6ZxbvwnslZxZEwOUZPwGvDHwTK8LaRxO5EkJlTNQa'\n",
        "access_token = '767779115776684032-ypRzTGqbgVpSb2gkYmCuvl3pP4SOQE9'\n",
        "access_token_secret = 'beHZc8aRyaXXpxZoxTaODu6idNCJVpjB2JWQ8FajJAbLx'"
      ],
      "execution_count": 0,
      "outputs": []
    },
    {
      "cell_type": "code",
      "metadata": {
        "id": "VoOSoaCPpvHe",
        "colab_type": "code",
        "outputId": "d955eec3-33f6-4281-cb11-098b6ad85c57",
        "colab": {
          "base_uri": "https://localhost:8080/",
          "height": 376
        }
      },
      "source": [
        "auth = tweepy.OAuthHandler(consumer_key, consumer_secret)\n",
        "auth.set_access_token(access_token, access_token_secret)\n",
        "\n",
        "api = tweepy.API(auth)\n",
        "\n",
        "tweets = api.search('I was raped', count=200)\n",
        "\n",
        "\n",
        "data = pd.DataFrame(data=[tweet.text for tweet in tweets], columns=['Tweets'])\n",
        "\n",
        "display(data.head(10))\n",
        "\n",
        "\n",
        "print(tweets[0].created_at)"
      ],
      "execution_count": 0,
      "outputs": [
        {
          "output_type": "display_data",
          "data": {
            "text/html": [
              "<div>\n",
              "<style scoped>\n",
              "    .dataframe tbody tr th:only-of-type {\n",
              "        vertical-align: middle;\n",
              "    }\n",
              "\n",
              "    .dataframe tbody tr th {\n",
              "        vertical-align: top;\n",
              "    }\n",
              "\n",
              "    .dataframe thead th {\n",
              "        text-align: right;\n",
              "    }\n",
              "</style>\n",
              "<table border=\"1\" class=\"dataframe\">\n",
              "  <thead>\n",
              "    <tr style=\"text-align: right;\">\n",
              "      <th></th>\n",
              "      <th>Tweets</th>\n",
              "    </tr>\n",
              "  </thead>\n",
              "  <tbody>\n",
              "    <tr>\n",
              "      <th>0</th>\n",
              "      <td>RT @AhmadJaafaru: With regards to rape stance ...</td>\n",
              "    </tr>\n",
              "    <tr>\n",
              "      <th>1</th>\n",
              "      <td>RT @kimmyj_Cx2: @bbusa617 This poor woman is v...</td>\n",
              "    </tr>\n",
              "    <tr>\n",
              "      <th>2</th>\n",
              "      <td>RT @VashiMant: I don't know how Muhammad of re...</td>\n",
              "    </tr>\n",
              "    <tr>\n",
              "      <th>3</th>\n",
              "      <td>These stories, so many, make me sick to my sto...</td>\n",
              "    </tr>\n",
              "    <tr>\n",
              "      <th>4</th>\n",
              "      <td>RT @VashiMant: I don't know how Muhammad of re...</td>\n",
              "    </tr>\n",
              "    <tr>\n",
              "      <th>5</th>\n",
              "      <td>and she told me something similar happened to ...</td>\n",
              "    </tr>\n",
              "    <tr>\n",
              "      <th>6</th>\n",
              "      <td>yeah, Michelle, you're right - I'm sure if the...</td>\n",
              "    </tr>\n",
              "    <tr>\n",
              "      <th>7</th>\n",
              "      <td>@GabeTheDeadFish @PapaZubi @trailsofsmoke @50c...</td>\n",
              "    </tr>\n",
              "    <tr>\n",
              "      <th>8</th>\n",
              "      <td>RT @VashiMant: I don't know how Muhammad of re...</td>\n",
              "    </tr>\n",
              "    <tr>\n",
              "      <th>9</th>\n",
              "      <td>RT @wilcotnyd: As supporters of sexual assault...</td>\n",
              "    </tr>\n",
              "  </tbody>\n",
              "</table>\n",
              "</div>"
            ],
            "text/plain": [
              "                                              Tweets\n",
              "0  RT @AhmadJaafaru: With regards to rape stance ...\n",
              "1  RT @kimmyj_Cx2: @bbusa617 This poor woman is v...\n",
              "2  RT @VashiMant: I don't know how Muhammad of re...\n",
              "3  These stories, so many, make me sick to my sto...\n",
              "4  RT @VashiMant: I don't know how Muhammad of re...\n",
              "5  and she told me something similar happened to ...\n",
              "6  yeah, Michelle, you're right - I'm sure if the...\n",
              "7  @GabeTheDeadFish @PapaZubi @trailsofsmoke @50c...\n",
              "8  RT @VashiMant: I don't know how Muhammad of re...\n",
              "9  RT @wilcotnyd: As supporters of sexual assault..."
            ]
          },
          "metadata": {
            "tags": []
          }
        },
        {
          "output_type": "stream",
          "text": [
            "2019-02-20 03:37:55\n"
          ],
          "name": "stdout"
        }
      ]
    },
    {
      "cell_type": "code",
      "metadata": {
        "id": "PUM0YeHmpwAT",
        "colab_type": "code",
        "outputId": "dd720dc4-3cb3-4c3d-ac36-f08416d38cfa",
        "colab": {
          "base_uri": "https://localhost:8080/",
          "height": 54
        }
      },
      "source": [
        "print(dir(tweets[0]))"
      ],
      "execution_count": 0,
      "outputs": [
        {
          "output_type": "stream",
          "text": [
            "['__class__', '__delattr__', '__dict__', '__dir__', '__doc__', '__eq__', '__format__', '__ge__', '__getattribute__', '__getstate__', '__gt__', '__hash__', '__init__', '__init_subclass__', '__le__', '__lt__', '__module__', '__ne__', '__new__', '__reduce__', '__reduce_ex__', '__repr__', '__setattr__', '__sizeof__', '__str__', '__subclasshook__', '__weakref__', '_api', '_json', 'author', 'contributors', 'coordinates', 'created_at', 'destroy', 'entities', 'favorite', 'favorite_count', 'favorited', 'geo', 'id', 'id_str', 'in_reply_to_screen_name', 'in_reply_to_status_id', 'in_reply_to_status_id_str', 'in_reply_to_user_id', 'in_reply_to_user_id_str', 'is_quote_status', 'lang', 'metadata', 'parse', 'parse_list', 'place', 'retweet', 'retweet_count', 'retweeted', 'retweeted_status', 'retweets', 'source', 'source_url', 'text', 'truncated', 'user']\n"
          ],
          "name": "stdout"
        }
      ]
    },
    {
      "cell_type": "code",
      "metadata": {
        "id": "6_D_2FOepzL4",
        "colab_type": "code",
        "outputId": "a6149e86-aea3-4b12-9cb5-e21e24a9f40a",
        "colab": {
          "base_uri": "https://localhost:8080/",
          "height": 173
        }
      },
      "source": [
        "print(tweets[0].id)\n",
        "print(tweets[0].created_at)\n",
        "print(tweets[0].source)\n",
        "print(tweets[0].favorite_count)\n",
        "print(tweets[0].retweet_count)\n",
        "print(tweets[0].geo)\n",
        "print(tweets[0].coordinates)\n",
        "print(tweets[0].entities)"
      ],
      "execution_count": 0,
      "outputs": [
        {
          "output_type": "stream",
          "text": [
            "1098064178546397184\n",
            "2019-02-20 03:37:55\n",
            "Twitter for iPhone\n",
            "0\n",
            "562\n",
            "None\n",
            "None\n",
            "{'hashtags': [], 'symbols': [], 'user_mentions': [{'screen_name': 'AhmadJaafaru', 'name': 'Principino', 'id': 3065572100, 'id_str': '3065572100', 'indices': [3, 16]}], 'urls': []}\n"
          ],
          "name": "stdout"
        }
      ]
    },
    {
      "cell_type": "code",
      "metadata": {
        "id": "PLkTRPOtp29c",
        "colab_type": "code",
        "colab": {}
      },
      "source": [
        "import numpy as np\n",
        "\n",
        "data['len']  = np.array([len(tweet.text) for tweet in tweets])\n",
        "data['ID']   = np.array([tweet.id for tweet in tweets])\n",
        "data['Date'] = np.array([tweet.created_at for tweet in tweets])\n",
        "data['Source'] = np.array([tweet.source for tweet in tweets])\n",
        "data['Likes']  = np.array([tweet.favorite_count for tweet in tweets])\n",
        "data['RTs']    = np.array([tweet.retweet_count for tweet in tweets])"
      ],
      "execution_count": 0,
      "outputs": []
    },
    {
      "cell_type": "code",
      "metadata": {
        "id": "rtGXhVFdp50h",
        "colab_type": "code",
        "outputId": "1c4d7b1a-5b9b-4871-fda4-4d3a39218cc9",
        "colab": {
          "base_uri": "https://localhost:8080/",
          "height": 359
        }
      },
      "source": [
        "display(data.head(10))"
      ],
      "execution_count": 0,
      "outputs": [
        {
          "output_type": "display_data",
          "data": {
            "text/html": [
              "<div>\n",
              "<style scoped>\n",
              "    .dataframe tbody tr th:only-of-type {\n",
              "        vertical-align: middle;\n",
              "    }\n",
              "\n",
              "    .dataframe tbody tr th {\n",
              "        vertical-align: top;\n",
              "    }\n",
              "\n",
              "    .dataframe thead th {\n",
              "        text-align: right;\n",
              "    }\n",
              "</style>\n",
              "<table border=\"1\" class=\"dataframe\">\n",
              "  <thead>\n",
              "    <tr style=\"text-align: right;\">\n",
              "      <th></th>\n",
              "      <th>Tweets</th>\n",
              "      <th>len</th>\n",
              "      <th>ID</th>\n",
              "      <th>Date</th>\n",
              "      <th>Source</th>\n",
              "      <th>Likes</th>\n",
              "      <th>RTs</th>\n",
              "    </tr>\n",
              "  </thead>\n",
              "  <tbody>\n",
              "    <tr>\n",
              "      <th>0</th>\n",
              "      <td>RT @AhmadJaafaru: With regards to rape stance ...</td>\n",
              "      <td>140</td>\n",
              "      <td>1098064178546397184</td>\n",
              "      <td>2019-02-20 03:37:55</td>\n",
              "      <td>Twitter for iPhone</td>\n",
              "      <td>0</td>\n",
              "      <td>562</td>\n",
              "    </tr>\n",
              "    <tr>\n",
              "      <th>1</th>\n",
              "      <td>RT @kimmyj_Cx2: @bbusa617 This poor woman is v...</td>\n",
              "      <td>148</td>\n",
              "      <td>1098064118085373952</td>\n",
              "      <td>2019-02-20 03:37:41</td>\n",
              "      <td>Twitter for iPhone</td>\n",
              "      <td>0</td>\n",
              "      <td>2</td>\n",
              "    </tr>\n",
              "    <tr>\n",
              "      <th>2</th>\n",
              "      <td>RT @VashiMant: I don't know how Muhammad of re...</td>\n",
              "      <td>140</td>\n",
              "      <td>1098064093557092352</td>\n",
              "      <td>2019-02-20 03:37:35</td>\n",
              "      <td>Twitter for Android</td>\n",
              "      <td>0</td>\n",
              "      <td>391</td>\n",
              "    </tr>\n",
              "    <tr>\n",
              "      <th>3</th>\n",
              "      <td>These stories, so many, make me sick to my sto...</td>\n",
              "      <td>132</td>\n",
              "      <td>1098064081116893189</td>\n",
              "      <td>2019-02-20 03:37:32</td>\n",
              "      <td>Twitter for iPhone</td>\n",
              "      <td>1</td>\n",
              "      <td>0</td>\n",
              "    </tr>\n",
              "    <tr>\n",
              "      <th>4</th>\n",
              "      <td>RT @VashiMant: I don't know how Muhammad of re...</td>\n",
              "      <td>140</td>\n",
              "      <td>1098063898400350208</td>\n",
              "      <td>2019-02-20 03:36:49</td>\n",
              "      <td>Twitter Web App</td>\n",
              "      <td>0</td>\n",
              "      <td>391</td>\n",
              "    </tr>\n",
              "    <tr>\n",
              "      <th>5</th>\n",
              "      <td>and she told me something similar happened to ...</td>\n",
              "      <td>140</td>\n",
              "      <td>1098063805010063363</td>\n",
              "      <td>2019-02-20 03:36:26</td>\n",
              "      <td>Twitter for iPhone</td>\n",
              "      <td>0</td>\n",
              "      <td>0</td>\n",
              "    </tr>\n",
              "    <tr>\n",
              "      <th>6</th>\n",
              "      <td>yeah, Michelle, you're right - I'm sure if the...</td>\n",
              "      <td>139</td>\n",
              "      <td>1098063562440871937</td>\n",
              "      <td>2019-02-20 03:35:28</td>\n",
              "      <td>Twitter Web Client</td>\n",
              "      <td>0</td>\n",
              "      <td>0</td>\n",
              "    </tr>\n",
              "    <tr>\n",
              "      <th>7</th>\n",
              "      <td>@GabeTheDeadFish @PapaZubi @trailsofsmoke @50c...</td>\n",
              "      <td>140</td>\n",
              "      <td>1098063504043593728</td>\n",
              "      <td>2019-02-20 03:35:15</td>\n",
              "      <td>Twitter for iPhone</td>\n",
              "      <td>0</td>\n",
              "      <td>0</td>\n",
              "    </tr>\n",
              "    <tr>\n",
              "      <th>8</th>\n",
              "      <td>RT @VashiMant: I don't know how Muhammad of re...</td>\n",
              "      <td>140</td>\n",
              "      <td>1098063503775027200</td>\n",
              "      <td>2019-02-20 03:35:14</td>\n",
              "      <td>Twitter for Android</td>\n",
              "      <td>0</td>\n",
              "      <td>391</td>\n",
              "    </tr>\n",
              "    <tr>\n",
              "      <th>9</th>\n",
              "      <td>RT @wilcotnyd: As supporters of sexual assault...</td>\n",
              "      <td>140</td>\n",
              "      <td>1098063264645230592</td>\n",
              "      <td>2019-02-20 03:34:17</td>\n",
              "      <td>Twitter for iPhone</td>\n",
              "      <td>0</td>\n",
              "      <td>2</td>\n",
              "    </tr>\n",
              "  </tbody>\n",
              "</table>\n",
              "</div>"
            ],
            "text/plain": [
              "                                              Tweets  len  \\\n",
              "0  RT @AhmadJaafaru: With regards to rape stance ...  140   \n",
              "1  RT @kimmyj_Cx2: @bbusa617 This poor woman is v...  148   \n",
              "2  RT @VashiMant: I don't know how Muhammad of re...  140   \n",
              "3  These stories, so many, make me sick to my sto...  132   \n",
              "4  RT @VashiMant: I don't know how Muhammad of re...  140   \n",
              "5  and she told me something similar happened to ...  140   \n",
              "6  yeah, Michelle, you're right - I'm sure if the...  139   \n",
              "7  @GabeTheDeadFish @PapaZubi @trailsofsmoke @50c...  140   \n",
              "8  RT @VashiMant: I don't know how Muhammad of re...  140   \n",
              "9  RT @wilcotnyd: As supporters of sexual assault...  140   \n",
              "\n",
              "                    ID                Date               Source  Likes  RTs  \n",
              "0  1098064178546397184 2019-02-20 03:37:55   Twitter for iPhone      0  562  \n",
              "1  1098064118085373952 2019-02-20 03:37:41   Twitter for iPhone      0    2  \n",
              "2  1098064093557092352 2019-02-20 03:37:35  Twitter for Android      0  391  \n",
              "3  1098064081116893189 2019-02-20 03:37:32   Twitter for iPhone      1    0  \n",
              "4  1098063898400350208 2019-02-20 03:36:49      Twitter Web App      0  391  \n",
              "5  1098063805010063363 2019-02-20 03:36:26   Twitter for iPhone      0    0  \n",
              "6  1098063562440871937 2019-02-20 03:35:28   Twitter Web Client      0    0  \n",
              "7  1098063504043593728 2019-02-20 03:35:15   Twitter for iPhone      0    0  \n",
              "8  1098063503775027200 2019-02-20 03:35:14  Twitter for Android      0  391  \n",
              "9  1098063264645230592 2019-02-20 03:34:17   Twitter for iPhone      0    2  "
            ]
          },
          "metadata": {
            "tags": []
          }
        }
      ]
    },
    {
      "cell_type": "code",
      "metadata": {
        "id": "rVtnNPzmp8k9",
        "colab_type": "code",
        "outputId": "ef72fc8a-5659-4fba-da35-9b977c7b8f9a",
        "colab": {
          "base_uri": "https://localhost:8080/",
          "height": 34
        }
      },
      "source": [
        "mean = np.mean(data['len'])\n",
        "\n",
        "print(\"The lenght's average in tweets: {}\".format(mean))"
      ],
      "execution_count": 0,
      "outputs": [
        {
          "output_type": "stream",
          "text": [
            "The lenght's average in tweets: 135.33\n"
          ],
          "name": "stdout"
        }
      ]
    },
    {
      "cell_type": "code",
      "metadata": {
        "id": "LJ6a8FHlp_yO",
        "colab_type": "code",
        "outputId": "c92fcb04-849f-44cb-e6a6-da4756463210",
        "colab": {
          "base_uri": "https://localhost:8080/",
          "height": 187
        }
      },
      "source": [
        "fav_max = np.max(data['Likes'])\n",
        "rt_max  = np.max(data['RTs'])\n",
        "\n",
        "fav = data[data.Likes == fav_max].index[0]\n",
        "rt  = data[data.RTs == rt_max].index[0]\n",
        "\n",
        "# Max FAVs:\n",
        "print(\"The tweet with more likes is: \\n{}\".format(data['Tweets'][fav]))\n",
        "print(\"Number of likes: {}\".format(fav_max))\n",
        "print(\"{} characters.\\n\".format(data['len'][fav]))\n",
        "\n",
        "# Max RTs:\n",
        "print(\"The tweet with more retweets is: \\n{}\".format(data['Tweets'][rt]))\n",
        "print(\"Number of retweets: {}\".format(rt_max))\n",
        "print(\"{} characters.\\n\".format(data['len'][rt]))"
      ],
      "execution_count": 0,
      "outputs": [
        {
          "output_type": "stream",
          "text": [
            "The tweet with more likes is: \n",
            "You know what's the stupidest thing I can hear from ignorant people \"oh look what she was wearing or doing, she was… https://t.co/0hoaBkc6uC\n",
            "Number of likes: 4\n",
            "140 characters.\n",
            "\n",
            "The tweet with more retweets is: \n",
            "RT @rozalynxalyse: after i was raped, they posted his mugshot on facebook. my friends commented and said “i heard the little girl lied abou…\n",
            "Number of retweets: 69321\n",
            "140 characters.\n",
            "\n"
          ],
          "name": "stdout"
        }
      ]
    },
    {
      "cell_type": "code",
      "metadata": {
        "id": "iWHQpcYvqCA_",
        "colab_type": "code",
        "colab": {}
      },
      "source": [
        "tlen = pd.Series(data=data['len'].values, index=data['Date'])\n",
        "tfav = pd.Series(data=data['Likes'].values, index=data['Date'])\n",
        "tret = pd.Series(data=data['RTs'].values, index=data['Date'])"
      ],
      "execution_count": 0,
      "outputs": []
    },
    {
      "cell_type": "code",
      "metadata": {
        "id": "xbsM9ALrqHl8",
        "colab_type": "code",
        "outputId": "ca7c877c-bf7a-43cd-e4c7-c092670df5ba",
        "colab": {
          "base_uri": "https://localhost:8080/",
          "height": 276
        }
      },
      "source": [
        "tlen.plot(figsize=(16,4), color='r');"
      ],
      "execution_count": 0,
      "outputs": [
        {
          "output_type": "display_data",
          "data": {
            "image/png": "[encoded data removed]",
            "text/plain": [
              "<Figure size 1152x288 with 1 Axes>"
            ]
          },
          "metadata": {
            "tags": []
          }
        }
      ]
    },
    {
      "cell_type": "code",
      "metadata": {
        "id": "Io0FTwWsqIu9",
        "colab_type": "code",
        "outputId": "9899e5f5-4887-4b30-e0c2-b90e3eb57646",
        "colab": {
          "base_uri": "https://localhost:8080/",
          "height": 276
        }
      },
      "source": [
        "# Likes vs retweets visualization:\n",
        "tfav.plot(figsize=(16,4), label=\"Likes\", legend=True)\n",
        "tret.plot(figsize=(16,4), label=\"Retweets\", legend=True);"
      ],
      "execution_count": 0,
      "outputs": [
        {
          "output_type": "display_data",
          "data": {
            "image/png": "[encoded data removed]",
            "text/plain": [
              "<Figure size 1152x288 with 1 Axes>"
            ]
          },
          "metadata": {
            "tags": []
          }
        }
      ]
    },
    {
      "cell_type": "code",
      "metadata": {
        "id": "XsFKKqChqLAn",
        "colab_type": "code",
        "outputId": "c3283c6d-ac50-46af-af4d-e63cc14fc922",
        "colab": {
          "base_uri": "https://localhost:8080/",
          "height": 187
        }
      },
      "source": [
        "# We obtain all possible sources:\n",
        "sources = []\n",
        "for source in data['Source']:\n",
        "    if source not in sources:\n",
        "        sources.append(source)\n",
        "\n",
        "# We print sources list:\n",
        "print(\"Creation of content sources:\")\n",
        "for source in sources:\n",
        "    print(\"* {}\".format(source))"
      ],
      "execution_count": 0,
      "outputs": [
        {
          "output_type": "stream",
          "text": [
            "Creation of content sources:\n",
            "* Twitter for iPhone\n",
            "* Twitter for Android\n",
            "* Twitter Web App\n",
            "* Twitter Web Client\n",
            "* WordPress.com\n",
            "* Hootsuite Inc.\n",
            "* Twitter for iPad\n",
            "* TweetDeck\n",
            "* nembotavy_010101\n"
          ],
          "name": "stdout"
        }
      ]
    },
    {
      "cell_type": "code",
      "metadata": {
        "id": "D4_ek_a6qNkv",
        "colab_type": "code",
        "outputId": "96ea8ffe-6d0c-4128-d366-1bb413e02062",
        "colab": {
          "base_uri": "https://localhost:8080/",
          "height": 357
        }
      },
      "source": [
        "# We create a numpy vector mapped to labels:\n",
        "percent = np.zeros(len(sources))\n",
        "\n",
        "for source in data['Source']:\n",
        "    for index in range(len(sources)):\n",
        "        if source == sources[index]:\n",
        "            percent[index] += 1\n",
        "            pass\n",
        "\n",
        "percent /= 100\n",
        "\n",
        "# Pie chart:\n",
        "pie_chart = pd.Series(percent, index=sources, name='Sources')\n",
        "pie_chart.plot.pie(fontsize=11, autopct='%.2f', figsize=(6, 6));"
      ],
      "execution_count": 0,
      "outputs": [
        {
          "output_type": "display_data",
          "data": {
            "image/png": "[encoded data removed]",
            "text/plain": [
              "<Figure size 432x432 with 1 Axes>"
            ]
          },
          "metadata": {
            "tags": []
          }
        }
      ]
    },
    {
      "cell_type": "code",
      "metadata": {
        "id": "Ue3axwnDqQE9",
        "colab_type": "code",
        "colab": {}
      },
      "source": [
        "from textblob import TextBlob\n",
        "import re\n",
        "\n",
        "def clean_tweet(tweet):\n",
        "    '''\n",
        "    Utility function to clean the text in a tweet by removing \n",
        "    links and special characters using regex.\n",
        "    '''\n",
        "    return ' '.join(re.sub(\"(@[A-Za-z0-9]+)|([^0-9A-Za-z \\t])|(\\w+:\\/\\/\\S+)\", \" \", tweet).split())\n",
        "\n",
        "def analize_sentiment(tweet):\n",
        "    '''\n",
        "    Utility function to classify the polarity of a tweet\n",
        "    using textblob.\n",
        "    '''\n",
        "    analysis = TextBlob(clean_tweet(tweet))\n",
        "    if analysis.sentiment.polarity > 0:\n",
        "        return 1\n",
        "    elif analysis.sentiment.polarity == 0:\n",
        "        return 0\n",
        "    else:\n",
        "        return -1"
      ],
      "execution_count": 0,
      "outputs": []
    },
    {
      "cell_type": "code",
      "metadata": {
        "id": "m2mCzTcSzSuU",
        "colab_type": "code",
        "outputId": "97f70c1f-0710-463c-8e4b-5804624c43fd",
        "colab": {
          "base_uri": "https://localhost:8080/",
          "height": 187
        }
      },
      "source": [
        "from nltk.tokenize import WordPunctTokenizer\n",
        "from bs4 import BeautifulSoup\n",
        "tok = WordPunctTokenizer()\n",
        "pat1 = r'@rt[A-Za-z0-9]+'\n",
        "pat2 = r'https?://[A-Za-z0-9./]+'\n",
        "combined_pat = r'|'.join((pat1, pat2))\n",
        "def tweet_cleaner(text):\n",
        "    soup = BeautifulSoup(text, 'lxml')\n",
        "    souped = soup.get_text()\n",
        "    stripped = re.sub(combined_pat, '', souped)\n",
        "    try:\n",
        "        clean = stripped.decode(\"utf-8-sig\").replace(u\"\\ufffd\", \"?\")\n",
        "    except:\n",
        "        clean = stripped\n",
        "    letters_only = re.sub(\"[^a-zA-Z]\", \" \", clean)\n",
        "    let = re.sub(\"[rt]\", \" \", clean)\n",
        "    lower_case = letters_only.lower()\n",
        "    # During the letters_only process two lines above, it has created unnecessay white spaces,\n",
        "    # I will tokenize and join together to remove unneccessary white spaces\n",
        "    words = tok.tokenize(lower_case)\n",
        "    return (\" \".join(words)).strip()\n",
        "testing = data.Tweets[:10]\n",
        "test_result = []\n",
        "for t in testing:\n",
        "    test_result.append(tweet_cleaner(t))\n",
        "test_result"
      ],
      "execution_count": 0,
      "outputs": [
        {
          "output_type": "execute_result",
          "data": {
            "text/plain": [
              "['rt ahmadjaafaru with regards to rape stance in islam i would like to share this powerful hadith it s there in sunnan abu dawud about r',\n",
              " 'rt kimmyj cx bbusa this poor woman is very very brave she was covering a story in the middle east kidnapped almost murdered b',\n",
              " 'rt vashimant i don t know how muhammad of real islam was but md of jaish e md kept sex slaves raped women kids killed innocents bro',\n",
              " 'these stories so many make me sick to my stomach i am sorry she was raped but her racism is inexcusable',\n",
              " 'rt vashimant i don t know how muhammad of real islam was but md of jaish e md kept sex slaves raped women kids killed innocents bro',\n",
              " 'and she told me something similar happened to her too that he had raped her she told me everything we sat and cr',\n",
              " 'yeah michelle you re right i m sure if the people who were raped and decapitated in el salvador had gotten the',\n",
              " 'gabethedeadfish papazubi trailsofsmoke cent what i ve learned is that someone we idolize can be two different',\n",
              " 'rt vashimant i don t know how muhammad of real islam was but md of jaish e md kept sex slaves raped women kids killed innocents bro',\n",
              " 'rt wilcotnyd as supporters of sexual assault survivors we believe there is no place for this kind of rhetoric especially not in our gov']"
            ]
          },
          "metadata": {
            "tags": []
          },
          "execution_count": 41
        }
      ]
    },
    {
      "cell_type": "code",
      "metadata": {
        "id": "6nTJ4wB8ybD_",
        "colab_type": "code",
        "outputId": "35a78f09-1a00-4e2e-eda0-699547416681",
        "colab": {
          "base_uri": "https://localhost:8080/",
          "height": 221
        }
      },
      "source": [
        "nums = [0,100,200]\n",
        "print (\"Cleaning and parsing the tweets...\\n\")\n",
        "clean_tweet_texts = []\n",
        "for i in range(nums[0],nums[1]):\n",
        "    if( (i+1)%10 == 0 ):\n",
        "        print( \"Tweets %d of %d has been processed\" % ( i+1, nums[1] ))                                                                    \n",
        "    clean_tweet_texts.append(tweet_cleaner(data['Tweets'][i]))"
      ],
      "execution_count": 0,
      "outputs": [
        {
          "output_type": "stream",
          "text": [
            "Cleaning and parsing the tweets...\n",
            "\n",
            "Tweets 10 of 100 has been processed\n",
            "Tweets 20 of 100 has been processed\n",
            "Tweets 30 of 100 has been processed\n",
            "Tweets 40 of 100 has been processed\n",
            "Tweets 50 of 100 has been processed\n",
            "Tweets 60 of 100 has been processed\n",
            "Tweets 70 of 100 has been processed\n",
            "Tweets 80 of 100 has been processed\n",
            "Tweets 90 of 100 has been processed\n",
            "Tweets 100 of 100 has been processed\n"
          ],
          "name": "stdout"
        }
      ]
    },
    {
      "cell_type": "code",
      "metadata": {
        "id": "l9bFZhLiqTiJ",
        "colab_type": "code",
        "outputId": "7e6fe294-33fa-400b-e8ff-90b387aa9c37",
        "colab": {
          "base_uri": "https://localhost:8080/",
          "height": 359
        }
      },
      "source": [
        "# We create a column with the result of the analysis:\n",
        "data['SA'] = np.array([ analize_sentiment(tweet) for tweet in clean_df['text'] ])\n",
        "\n",
        "# We display the updated dataframe with the new column:\n",
        "display(data.head(10))"
      ],
      "execution_count": 0,
      "outputs": [
        {
          "output_type": "display_data",
          "data": {
            "text/html": [
              "<div>\n",
              "<style scoped>\n",
              "    .dataframe tbody tr th:only-of-type {\n",
              "        vertical-align: middle;\n",
              "    }\n",
              "\n",
              "    .dataframe tbody tr th {\n",
              "        vertical-align: top;\n",
              "    }\n",
              "\n",
              "    .dataframe thead th {\n",
              "        text-align: right;\n",
              "    }\n",
              "</style>\n",
              "<table border=\"1\" class=\"dataframe\">\n",
              "  <thead>\n",
              "    <tr style=\"text-align: right;\">\n",
              "      <th></th>\n",
              "      <th>Tweets</th>\n",
              "      <th>len</th>\n",
              "      <th>ID</th>\n",
              "      <th>Date</th>\n",
              "      <th>Source</th>\n",
              "      <th>Likes</th>\n",
              "      <th>RTs</th>\n",
              "      <th>SA</th>\n",
              "    </tr>\n",
              "  </thead>\n",
              "  <tbody>\n",
              "    <tr>\n",
              "      <th>0</th>\n",
              "      <td>RT @AhmadJaafaru: With regards to rape stance ...</td>\n",
              "      <td>140</td>\n",
              "      <td>1098064178546397184</td>\n",
              "      <td>2019-02-20 03:37:55</td>\n",
              "      <td>Twitter for iPhone</td>\n",
              "      <td>0</td>\n",
              "      <td>562</td>\n",
              "      <td>1</td>\n",
              "    </tr>\n",
              "    <tr>\n",
              "      <th>1</th>\n",
              "      <td>RT @kimmyj_Cx2: @bbusa617 This poor woman is v...</td>\n",
              "      <td>148</td>\n",
              "      <td>1098064118085373952</td>\n",
              "      <td>2019-02-20 03:37:41</td>\n",
              "      <td>Twitter for iPhone</td>\n",
              "      <td>0</td>\n",
              "      <td>2</td>\n",
              "      <td>1</td>\n",
              "    </tr>\n",
              "    <tr>\n",
              "      <th>2</th>\n",
              "      <td>RT @VashiMant: I don't know how Muhammad of re...</td>\n",
              "      <td>140</td>\n",
              "      <td>1098064093557092352</td>\n",
              "      <td>2019-02-20 03:37:35</td>\n",
              "      <td>Twitter for Android</td>\n",
              "      <td>0</td>\n",
              "      <td>391</td>\n",
              "      <td>0</td>\n",
              "    </tr>\n",
              "    <tr>\n",
              "      <th>3</th>\n",
              "      <td>These stories, so many, make me sick to my sto...</td>\n",
              "      <td>132</td>\n",
              "      <td>1098064081116893189</td>\n",
              "      <td>2019-02-20 03:37:32</td>\n",
              "      <td>Twitter for iPhone</td>\n",
              "      <td>1</td>\n",
              "      <td>0</td>\n",
              "      <td>-1</td>\n",
              "    </tr>\n",
              "    <tr>\n",
              "      <th>4</th>\n",
              "      <td>RT @VashiMant: I don't know how Muhammad of re...</td>\n",
              "      <td>140</td>\n",
              "      <td>1098063898400350208</td>\n",
              "      <td>2019-02-20 03:36:49</td>\n",
              "      <td>Twitter Web App</td>\n",
              "      <td>0</td>\n",
              "      <td>391</td>\n",
              "      <td>0</td>\n",
              "    </tr>\n",
              "    <tr>\n",
              "      <th>5</th>\n",
              "      <td>and she told me something similar happened to ...</td>\n",
              "      <td>140</td>\n",
              "      <td>1098063805010063363</td>\n",
              "      <td>2019-02-20 03:36:26</td>\n",
              "      <td>Twitter for iPhone</td>\n",
              "      <td>0</td>\n",
              "      <td>0</td>\n",
              "      <td>0</td>\n",
              "    </tr>\n",
              "    <tr>\n",
              "      <th>6</th>\n",
              "      <td>yeah, Michelle, you're right - I'm sure if the...</td>\n",
              "      <td>139</td>\n",
              "      <td>1098063562440871937</td>\n",
              "      <td>2019-02-20 03:35:28</td>\n",
              "      <td>Twitter Web Client</td>\n",
              "      <td>0</td>\n",
              "      <td>0</td>\n",
              "      <td>1</td>\n",
              "    </tr>\n",
              "    <tr>\n",
              "      <th>7</th>\n",
              "      <td>@GabeTheDeadFish @PapaZubi @trailsofsmoke @50c...</td>\n",
              "      <td>140</td>\n",
              "      <td>1098063504043593728</td>\n",
              "      <td>2019-02-20 03:35:15</td>\n",
              "      <td>Twitter for iPhone</td>\n",
              "      <td>0</td>\n",
              "      <td>0</td>\n",
              "      <td>0</td>\n",
              "    </tr>\n",
              "    <tr>\n",
              "      <th>8</th>\n",
              "      <td>RT @VashiMant: I don't know how Muhammad of re...</td>\n",
              "      <td>140</td>\n",
              "      <td>1098063503775027200</td>\n",
              "      <td>2019-02-20 03:35:14</td>\n",
              "      <td>Twitter for Android</td>\n",
              "      <td>0</td>\n",
              "      <td>391</td>\n",
              "      <td>0</td>\n",
              "    </tr>\n",
              "    <tr>\n",
              "      <th>9</th>\n",
              "      <td>RT @wilcotnyd: As supporters of sexual assault...</td>\n",
              "      <td>140</td>\n",
              "      <td>1098063264645230592</td>\n",
              "      <td>2019-02-20 03:34:17</td>\n",
              "      <td>Twitter for iPhone</td>\n",
              "      <td>0</td>\n",
              "      <td>2</td>\n",
              "      <td>1</td>\n",
              "    </tr>\n",
              "  </tbody>\n",
              "</table>\n",
              "</div>"
            ],
            "text/plain": [
              "                                              Tweets  len  \\\n",
              "0  RT @AhmadJaafaru: With regards to rape stance ...  140   \n",
              "1  RT @kimmyj_Cx2: @bbusa617 This poor woman is v...  148   \n",
              "2  RT @VashiMant: I don't know how Muhammad of re...  140   \n",
              "3  These stories, so many, make me sick to my sto...  132   \n",
              "4  RT @VashiMant: I don't know how Muhammad of re...  140   \n",
              "5  and she told me something similar happened to ...  140   \n",
              "6  yeah, Michelle, you're right - I'm sure if the...  139   \n",
              "7  @GabeTheDeadFish @PapaZubi @trailsofsmoke @50c...  140   \n",
              "8  RT @VashiMant: I don't know how Muhammad of re...  140   \n",
              "9  RT @wilcotnyd: As supporters of sexual assault...  140   \n",
              "\n",
              "                    ID                Date               Source  Likes  RTs  \\\n",
              "0  1098064178546397184 2019-02-20 03:37:55   Twitter for iPhone      0  562   \n",
              "1  1098064118085373952 2019-02-20 03:37:41   Twitter for iPhone      0    2   \n",
              "2  1098064093557092352 2019-02-20 03:37:35  Twitter for Android      0  391   \n",
              "3  1098064081116893189 2019-02-20 03:37:32   Twitter for iPhone      1    0   \n",
              "4  1098063898400350208 2019-02-20 03:36:49      Twitter Web App      0  391   \n",
              "5  1098063805010063363 2019-02-20 03:36:26   Twitter for iPhone      0    0   \n",
              "6  1098063562440871937 2019-02-20 03:35:28   Twitter Web Client      0    0   \n",
              "7  1098063504043593728 2019-02-20 03:35:15   Twitter for iPhone      0    0   \n",
              "8  1098063503775027200 2019-02-20 03:35:14  Twitter for Android      0  391   \n",
              "9  1098063264645230592 2019-02-20 03:34:17   Twitter for iPhone      0    2   \n",
              "\n",
              "   SA  \n",
              "0   1  \n",
              "1   1  \n",
              "2   0  \n",
              "3  -1  \n",
              "4   0  \n",
              "5   0  \n",
              "6   1  \n",
              "7   0  \n",
              "8   0  \n",
              "9   1  "
            ]
          },
          "metadata": {
            "tags": []
          }
        }
      ]
    },
    {
      "cell_type": "code",
      "metadata": {
        "id": "AsB_nvoPwkdb",
        "colab_type": "code",
        "outputId": "2542580a-abe7-4a5d-8402-43d5591e0484",
        "colab": {
          "base_uri": "https://localhost:8080/",
          "height": 204
        }
      },
      "source": [
        "clean_df = pd.DataFrame(clean_tweet_texts,columns=['text'])\n",
        "clean_df['target'] = data.SA\n",
        "clean_df.head()"
      ],
      "execution_count": 0,
      "outputs": [
        {
          "output_type": "execute_result",
          "data": {
            "text/html": [
              "<div>\n",
              "<style scoped>\n",
              "    .dataframe tbody tr th:only-of-type {\n",
              "        vertical-align: middle;\n",
              "    }\n",
              "\n",
              "    .dataframe tbody tr th {\n",
              "        vertical-align: top;\n",
              "    }\n",
              "\n",
              "    .dataframe thead th {\n",
              "        text-align: right;\n",
              "    }\n",
              "</style>\n",
              "<table border=\"1\" class=\"dataframe\">\n",
              "  <thead>\n",
              "    <tr style=\"text-align: right;\">\n",
              "      <th></th>\n",
              "      <th>text</th>\n",
              "      <th>target</th>\n",
              "    </tr>\n",
              "  </thead>\n",
              "  <tbody>\n",
              "    <tr>\n",
              "      <th>0</th>\n",
              "      <td>rt ahmadjaafaru with regards to rape stance in...</td>\n",
              "      <td>1</td>\n",
              "    </tr>\n",
              "    <tr>\n",
              "      <th>1</th>\n",
              "      <td>rt kimmyj cx bbusa this poor woman is very ver...</td>\n",
              "      <td>1</td>\n",
              "    </tr>\n",
              "    <tr>\n",
              "      <th>2</th>\n",
              "      <td>rt vashimant i don t know how muhammad of real...</td>\n",
              "      <td>0</td>\n",
              "    </tr>\n",
              "    <tr>\n",
              "      <th>3</th>\n",
              "      <td>these stories so many make me sick to my stoma...</td>\n",
              "      <td>-1</td>\n",
              "    </tr>\n",
              "    <tr>\n",
              "      <th>4</th>\n",
              "      <td>rt vashimant i don t know how muhammad of real...</td>\n",
              "      <td>0</td>\n",
              "    </tr>\n",
              "  </tbody>\n",
              "</table>\n",
              "</div>"
            ],
            "text/plain": [
              "                                                text  target\n",
              "0  rt ahmadjaafaru with regards to rape stance in...       1\n",
              "1  rt kimmyj cx bbusa this poor woman is very ver...       1\n",
              "2  rt vashimant i don t know how muhammad of real...       0\n",
              "3  these stories so many make me sick to my stoma...      -1\n",
              "4  rt vashimant i don t know how muhammad of real...       0"
            ]
          },
          "metadata": {
            "tags": []
          },
          "execution_count": 47
        }
      ]
    },
    {
      "cell_type": "code",
      "metadata": {
        "id": "l4p6GFRvqWdC",
        "colab_type": "code",
        "colab": {}
      },
      "source": [
        "# We construct lists with classified tweets:\n",
        "\n",
        "pos_tweets = [ tweet for index, tweet in enumerate(data['Tweets']) if data['SA'][index] > 0]\n",
        "neu_tweets = [ tweet for index, tweet in enumerate(data['Tweets']) if data['SA'][index] == 0]\n",
        "neg_tweets = [ tweet for index, tweet in enumerate(data['Tweets']) if data['SA'][index] < 0]"
      ],
      "execution_count": 0,
      "outputs": []
    },
    {
      "cell_type": "code",
      "metadata": {
        "id": "YLmPOVZSqZeK",
        "colab_type": "code",
        "outputId": "6cedfbb1-33fc-4ead-b845-824f5ee32064",
        "colab": {
          "base_uri": "https://localhost:8080/",
          "height": 68
        }
      },
      "source": [
        "print(\"Percentage of positive tweets: {}%\".format(len(pos_tweets)*100/len(data['Tweets'])))\n",
        "print(\"Percentage of neutral tweets: {}%\".format(len(neu_tweets)*100/len(data['Tweets'])))\n",
        "print(\"Percentage de negative tweets: {}%\".format(len(neg_tweets)*100/len(data['Tweets'])))"
      ],
      "execution_count": 0,
      "outputs": [
        {
          "output_type": "stream",
          "text": [
            "Percentage of positive tweets: 56.38297872340426%\n",
            "Percentage of neutral tweets: 28.72340425531915%\n",
            "Percentage de negative tweets: 14.893617021276595%\n"
          ],
          "name": "stdout"
        }
      ]
    },
    {
      "cell_type": "code",
      "metadata": {
        "id": "RJup8OVNqbfJ",
        "colab_type": "code",
        "colab": {}
      },
      "source": [
        " df = pd.DataFrame({'Sentiment Analysis For Tweeets Expressing Rape Experiences': [len(pos_tweets)*100/len(data['Tweets']), len(neu_tweets)*100/len(data['Tweets']) , len(neg_tweets)*100/len(data['Tweets'])]},index=['pos', 'neu', 'neg'])\n"
      ],
      "execution_count": 0,
      "outputs": []
    },
    {
      "cell_type": "code",
      "metadata": {
        "id": "JlYGjFRkqfuS",
        "colab_type": "code",
        "outputId": "e5a836ca-1e4d-4f96-cf60-8b22bd3b465c",
        "colab": {
          "base_uri": "https://localhost:8080/",
          "height": 465
        }
      },
      "source": [
        "plot = df.plot.pie(y='Sentiment Analysis For Tweeets Expressing Rape Experiences', figsize=(5, 5))\n",
        "df"
      ],
      "execution_count": 0,
      "outputs": [
        {
          "output_type": "execute_result",
          "data": {
            "text/html": [
              "<div>\n",
              "<style scoped>\n",
              "    .dataframe tbody tr th:only-of-type {\n",
              "        vertical-align: middle;\n",
              "    }\n",
              "\n",
              "    .dataframe tbody tr th {\n",
              "        vertical-align: top;\n",
              "    }\n",
              "\n",
              "    .dataframe thead th {\n",
              "        text-align: right;\n",
              "    }\n",
              "</style>\n",
              "<table border=\"1\" class=\"dataframe\">\n",
              "  <thead>\n",
              "    <tr style=\"text-align: right;\">\n",
              "      <th></th>\n",
              "      <th>Sentiment Analysis For Tweeets Expressing Rape Experiences</th>\n",
              "    </tr>\n",
              "  </thead>\n",
              "  <tbody>\n",
              "    <tr>\n",
              "      <th>pos</th>\n",
              "      <td>56.382979</td>\n",
              "    </tr>\n",
              "    <tr>\n",
              "      <th>neu</th>\n",
              "      <td>28.723404</td>\n",
              "    </tr>\n",
              "    <tr>\n",
              "      <th>neg</th>\n",
              "      <td>14.893617</td>\n",
              "    </tr>\n",
              "  </tbody>\n",
              "</table>\n",
              "</div>"
            ],
            "text/plain": [
              "     Sentiment Analysis For Tweeets Expressing Rape Experiences\n",
              "pos                                          56.382979         \n",
              "neu                                          28.723404         \n",
              "neg                                          14.893617         "
            ]
          },
          "metadata": {
            "tags": []
          },
          "execution_count": 21
        },
        {
          "output_type": "display_data",
          "data": {
            "image/png": "[encoded data removed]",
            "text/plain": [
              "<Figure size 360x360 with 1 Axes>"
            ]
          },
          "metadata": {
            "tags": []
          }
        }
      ]
    }
  ]
}